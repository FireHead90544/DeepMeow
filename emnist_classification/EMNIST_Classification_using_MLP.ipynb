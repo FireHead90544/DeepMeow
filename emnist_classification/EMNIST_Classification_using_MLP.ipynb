{
  "nbformat": 4,
  "nbformat_minor": 0,
  "metadata": {
    "colab": {
      "provenance": [],
      "gpuType": "T4"
    },
    "kernelspec": {
      "name": "python3",
      "display_name": "Python 3"
    },
    "language_info": {
      "name": "python"
    },
    "accelerator": "GPU",
    "widgets": {
      "application/vnd.jupyter.widget-state+json": {
        "33b2a84634314a19958c6ca53722fead": {
          "model_module": "@jupyter-widgets/controls",
          "model_name": "HBoxModel",
          "model_module_version": "1.5.0",
          "state": {
            "_dom_classes": [],
            "_model_module": "@jupyter-widgets/controls",
            "_model_module_version": "1.5.0",
            "_model_name": "HBoxModel",
            "_view_count": null,
            "_view_module": "@jupyter-widgets/controls",
            "_view_module_version": "1.5.0",
            "_view_name": "HBoxView",
            "box_style": "",
            "children": [
              "IPY_MODEL_5907856c16a4440da9164fcb6b80c20a",
              "IPY_MODEL_58c8b645853544b3a075c5cb16b232f1"
            ],
            "layout": "IPY_MODEL_e046aa7839bf4a639d3c96fe0b82e0ed"
          }
        },
        "5907856c16a4440da9164fcb6b80c20a": {
          "model_module": "ipycanvas",
          "model_name": "MultiCanvasModel",
          "model_module_version": "^0.13",
          "state": {
            "_canvas_manager": "IPY_MODEL_55d627ad3c8a4a19abc5d1ff0df58f38",
            "_canvases": [
              "IPY_MODEL_cf960c5284314d1cb989bf93a81a0ac0",
              "IPY_MODEL_ee78e06f47b24b2fb3677b49f4922038",
              "IPY_MODEL_70cc480ca41f4c50816b9e4f866dc199"
            ],
            "_dom_classes": [],
            "_model_module": "ipycanvas",
            "_model_module_version": "^0.13",
            "_model_name": "MultiCanvasModel",
            "_view_count": null,
            "_view_module": "ipycanvas",
            "_view_module_version": "^0.13",
            "_view_name": "MultiCanvasView",
            "height": 280,
            "image_data": null,
            "layout": "IPY_MODEL_8d979dc6bbae410fabaf71e02a158601",
            "sync_image_data": true,
            "width": 280
          }
        },
        "58c8b645853544b3a075c5cb16b232f1": {
          "model_module": "@jupyter-widgets/controls",
          "model_name": "VBoxModel",
          "model_module_version": "1.5.0",
          "state": {
            "_dom_classes": [],
            "_model_module": "@jupyter-widgets/controls",
            "_model_module_version": "1.5.0",
            "_model_name": "VBoxModel",
            "_view_count": null,
            "_view_module": "@jupyter-widgets/controls",
            "_view_module_version": "1.5.0",
            "_view_name": "VBoxView",
            "box_style": "",
            "children": [
              "IPY_MODEL_eccbf3507ae54dac89485b00e2a896c1",
              "IPY_MODEL_5636302016b4454e95e6da08762b20d9",
              "IPY_MODEL_75ee6dd6f2f242ed8e56354e7c2e1b98",
              "IPY_MODEL_70fd83939a9b4ae790851ab0db27d9dc",
              "IPY_MODEL_0a289f0da3f94e408ce9a5076cbd5327"
            ],
            "layout": "IPY_MODEL_321a2e699c8c4b808b2f2d349ab652b4"
          }
        },
        "e046aa7839bf4a639d3c96fe0b82e0ed": {
          "model_module": "@jupyter-widgets/base",
          "model_name": "LayoutModel",
          "model_module_version": "1.2.0",
          "state": {
            "_model_module": "@jupyter-widgets/base",
            "_model_module_version": "1.2.0",
            "_model_name": "LayoutModel",
            "_view_count": null,
            "_view_module": "@jupyter-widgets/base",
            "_view_module_version": "1.2.0",
            "_view_name": "LayoutView",
            "align_content": null,
            "align_items": null,
            "align_self": null,
            "border": null,
            "bottom": null,
            "display": null,
            "flex": null,
            "flex_flow": null,
            "grid_area": null,
            "grid_auto_columns": null,
            "grid_auto_flow": null,
            "grid_auto_rows": null,
            "grid_column": null,
            "grid_gap": null,
            "grid_row": null,
            "grid_template_areas": null,
            "grid_template_columns": null,
            "grid_template_rows": null,
            "height": null,
            "justify_content": null,
            "justify_items": null,
            "left": null,
            "margin": null,
            "max_height": null,
            "max_width": null,
            "min_height": null,
            "min_width": null,
            "object_fit": null,
            "object_position": null,
            "order": null,
            "overflow": null,
            "overflow_x": null,
            "overflow_y": null,
            "padding": null,
            "right": null,
            "top": null,
            "visibility": null,
            "width": null
          }
        },
        "eccbf3507ae54dac89485b00e2a896c1": {
          "model_module": "@jupyter-widgets/controls",
          "model_name": "ToggleButtonsModel",
          "model_module_version": "1.5.0",
          "state": {
            "_dom_classes": [],
            "_model_module": "@jupyter-widgets/controls",
            "_model_module_version": "1.5.0",
            "_model_name": "ToggleButtonsModel",
            "_options_labels": [
              "Brush ",
              "Square ",
              "Circle "
            ],
            "_view_count": null,
            "_view_module": "@jupyter-widgets/controls",
            "_view_module_version": "1.5.0",
            "_view_name": "ToggleButtonsView",
            "button_style": "",
            "description": "",
            "description_tooltip": null,
            "disabled": false,
            "icons": [
              "brush",
              "square",
              "circle"
            ],
            "index": 0,
            "layout": "IPY_MODEL_32b09cef69544c789968e10822868164",
            "style": "IPY_MODEL_6edba55b3a4947de90d7fd9bee5343c4",
            "tooltips": []
          }
        },
        "5636302016b4454e95e6da08762b20d9": {
          "model_module": "@jupyter-widgets/controls",
          "model_name": "ColorPickerModel",
          "model_module_version": "1.5.0",
          "state": {
            "_dom_classes": [],
            "_model_module": "@jupyter-widgets/controls",
            "_model_module_version": "1.5.0",
            "_model_name": "ColorPickerModel",
            "_view_count": null,
            "_view_module": "@jupyter-widgets/controls",
            "_view_module_version": "1.5.0",
            "_view_name": "ColorPickerView",
            "concise": false,
            "description": "Color:",
            "description_tooltip": null,
            "disabled": false,
            "layout": "IPY_MODEL_6d13d307b1a740ab91c13e60897d38d0",
            "style": "IPY_MODEL_da40f63ff3d7490fbd0a848642a4b730",
            "value": "#000000"
          }
        },
        "75ee6dd6f2f242ed8e56354e7c2e1b98": {
          "model_module": "@jupyter-widgets/controls",
          "model_name": "IntSliderModel",
          "model_module_version": "1.5.0",
          "state": {
            "_dom_classes": [],
            "_model_module": "@jupyter-widgets/controls",
            "_model_module_version": "1.5.0",
            "_model_name": "IntSliderModel",
            "_view_count": null,
            "_view_module": "@jupyter-widgets/controls",
            "_view_module_version": "1.5.0",
            "_view_name": "IntSliderView",
            "continuous_update": true,
            "description": "Brush radius:",
            "description_tooltip": null,
            "disabled": false,
            "layout": "IPY_MODEL_6d49276de9b0431cb079930309ad1934",
            "max": 100,
            "min": 1,
            "orientation": "horizontal",
            "readout": true,
            "readout_format": "d",
            "step": 1,
            "style": "IPY_MODEL_64ba7b9cb29e410bba1aef3b807867c8",
            "value": 20
          }
        },
        "70fd83939a9b4ae790851ab0db27d9dc": {
          "model_module": "@jupyter-widgets/controls",
          "model_name": "ButtonModel",
          "model_module_version": "1.5.0",
          "state": {
            "_dom_classes": [],
            "_model_module": "@jupyter-widgets/controls",
            "_model_module_version": "1.5.0",
            "_model_name": "ButtonModel",
            "_view_count": null,
            "_view_module": "@jupyter-widgets/controls",
            "_view_module_version": "1.5.0",
            "_view_name": "ButtonView",
            "button_style": "",
            "description": "Clear",
            "disabled": false,
            "icon": "",
            "layout": "IPY_MODEL_2c0d34c152ef460bb253c734edf94dee",
            "style": "IPY_MODEL_75309675345149aeb80cf1ba102e7561",
            "tooltip": ""
          }
        },
        "0a289f0da3f94e408ce9a5076cbd5327": {
          "model_module": "@jupyter-widgets/controls",
          "model_name": "HBoxModel",
          "model_module_version": "1.5.0",
          "state": {
            "_dom_classes": [],
            "_model_module": "@jupyter-widgets/controls",
            "_model_module_version": "1.5.0",
            "_model_name": "HBoxModel",
            "_view_count": null,
            "_view_module": "@jupyter-widgets/controls",
            "_view_module_version": "1.5.0",
            "_view_name": "HBoxView",
            "box_style": "",
            "children": [
              "IPY_MODEL_694882b707214cb694c2fa1dceaa85d0",
              "IPY_MODEL_1242881c70ad48be98da8909b95b0e9f"
            ],
            "layout": "IPY_MODEL_8f2c202d8e894c47b10b1ce7992bc1e7"
          }
        },
        "321a2e699c8c4b808b2f2d349ab652b4": {
          "model_module": "@jupyter-widgets/base",
          "model_name": "LayoutModel",
          "model_module_version": "1.2.0",
          "state": {
            "_model_module": "@jupyter-widgets/base",
            "_model_module_version": "1.2.0",
            "_model_name": "LayoutModel",
            "_view_count": null,
            "_view_module": "@jupyter-widgets/base",
            "_view_module_version": "1.2.0",
            "_view_name": "LayoutView",
            "align_content": null,
            "align_items": null,
            "align_self": null,
            "border": null,
            "bottom": null,
            "display": null,
            "flex": null,
            "flex_flow": null,
            "grid_area": null,
            "grid_auto_columns": null,
            "grid_auto_flow": null,
            "grid_auto_rows": null,
            "grid_column": null,
            "grid_gap": null,
            "grid_row": null,
            "grid_template_areas": null,
            "grid_template_columns": null,
            "grid_template_rows": null,
            "height": null,
            "justify_content": null,
            "justify_items": null,
            "left": null,
            "margin": null,
            "max_height": null,
            "max_width": null,
            "min_height": null,
            "min_width": null,
            "object_fit": null,
            "object_position": null,
            "order": null,
            "overflow": null,
            "overflow_x": null,
            "overflow_y": null,
            "padding": null,
            "right": null,
            "top": null,
            "visibility": null,
            "width": null
          }
        },
        "32b09cef69544c789968e10822868164": {
          "model_module": "@jupyter-widgets/base",
          "model_name": "LayoutModel",
          "model_module_version": "1.2.0",
          "state": {
            "_model_module": "@jupyter-widgets/base",
            "_model_module_version": "1.2.0",
            "_model_name": "LayoutModel",
            "_view_count": null,
            "_view_module": "@jupyter-widgets/base",
            "_view_module_version": "1.2.0",
            "_view_name": "LayoutView",
            "align_content": null,
            "align_items": null,
            "align_self": null,
            "border": null,
            "bottom": null,
            "display": null,
            "flex": null,
            "flex_flow": null,
            "grid_area": null,
            "grid_auto_columns": null,
            "grid_auto_flow": null,
            "grid_auto_rows": null,
            "grid_column": null,
            "grid_gap": null,
            "grid_row": null,
            "grid_template_areas": null,
            "grid_template_columns": null,
            "grid_template_rows": null,
            "height": null,
            "justify_content": null,
            "justify_items": null,
            "left": null,
            "margin": null,
            "max_height": null,
            "max_width": null,
            "min_height": null,
            "min_width": null,
            "object_fit": null,
            "object_position": null,
            "order": null,
            "overflow": null,
            "overflow_x": null,
            "overflow_y": null,
            "padding": null,
            "right": null,
            "top": null,
            "visibility": null,
            "width": null
          }
        },
        "6edba55b3a4947de90d7fd9bee5343c4": {
          "model_module": "@jupyter-widgets/controls",
          "model_name": "ToggleButtonsStyleModel",
          "model_module_version": "1.5.0",
          "state": {
            "_model_module": "@jupyter-widgets/controls",
            "_model_module_version": "1.5.0",
            "_model_name": "ToggleButtonsStyleModel",
            "_view_count": null,
            "_view_module": "@jupyter-widgets/base",
            "_view_module_version": "1.2.0",
            "_view_name": "StyleView",
            "button_width": "",
            "description_width": "",
            "font_weight": ""
          }
        },
        "6d13d307b1a740ab91c13e60897d38d0": {
          "model_module": "@jupyter-widgets/base",
          "model_name": "LayoutModel",
          "model_module_version": "1.2.0",
          "state": {
            "_model_module": "@jupyter-widgets/base",
            "_model_module_version": "1.2.0",
            "_model_name": "LayoutModel",
            "_view_count": null,
            "_view_module": "@jupyter-widgets/base",
            "_view_module_version": "1.2.0",
            "_view_name": "LayoutView",
            "align_content": null,
            "align_items": null,
            "align_self": null,
            "border": null,
            "bottom": null,
            "display": null,
            "flex": null,
            "flex_flow": null,
            "grid_area": null,
            "grid_auto_columns": null,
            "grid_auto_flow": null,
            "grid_auto_rows": null,
            "grid_column": null,
            "grid_gap": null,
            "grid_row": null,
            "grid_template_areas": null,
            "grid_template_columns": null,
            "grid_template_rows": null,
            "height": null,
            "justify_content": null,
            "justify_items": null,
            "left": null,
            "margin": null,
            "max_height": null,
            "max_width": null,
            "min_height": null,
            "min_width": null,
            "object_fit": null,
            "object_position": null,
            "order": null,
            "overflow": null,
            "overflow_x": null,
            "overflow_y": null,
            "padding": null,
            "right": null,
            "top": null,
            "visibility": null,
            "width": null
          }
        },
        "da40f63ff3d7490fbd0a848642a4b730": {
          "model_module": "@jupyter-widgets/controls",
          "model_name": "DescriptionStyleModel",
          "model_module_version": "1.5.0",
          "state": {
            "_model_module": "@jupyter-widgets/controls",
            "_model_module_version": "1.5.0",
            "_model_name": "DescriptionStyleModel",
            "_view_count": null,
            "_view_module": "@jupyter-widgets/base",
            "_view_module_version": "1.2.0",
            "_view_name": "StyleView",
            "description_width": ""
          }
        },
        "6d49276de9b0431cb079930309ad1934": {
          "model_module": "@jupyter-widgets/base",
          "model_name": "LayoutModel",
          "model_module_version": "1.2.0",
          "state": {
            "_model_module": "@jupyter-widgets/base",
            "_model_module_version": "1.2.0",
            "_model_name": "LayoutModel",
            "_view_count": null,
            "_view_module": "@jupyter-widgets/base",
            "_view_module_version": "1.2.0",
            "_view_name": "LayoutView",
            "align_content": null,
            "align_items": null,
            "align_self": null,
            "border": null,
            "bottom": null,
            "display": null,
            "flex": null,
            "flex_flow": null,
            "grid_area": null,
            "grid_auto_columns": null,
            "grid_auto_flow": null,
            "grid_auto_rows": null,
            "grid_column": null,
            "grid_gap": null,
            "grid_row": null,
            "grid_template_areas": null,
            "grid_template_columns": null,
            "grid_template_rows": null,
            "height": null,
            "justify_content": null,
            "justify_items": null,
            "left": null,
            "margin": null,
            "max_height": null,
            "max_width": null,
            "min_height": null,
            "min_width": null,
            "object_fit": null,
            "object_position": null,
            "order": null,
            "overflow": null,
            "overflow_x": null,
            "overflow_y": null,
            "padding": null,
            "right": null,
            "top": null,
            "visibility": null,
            "width": null
          }
        },
        "64ba7b9cb29e410bba1aef3b807867c8": {
          "model_module": "@jupyter-widgets/controls",
          "model_name": "SliderStyleModel",
          "model_module_version": "1.5.0",
          "state": {
            "_model_module": "@jupyter-widgets/controls",
            "_model_module_version": "1.5.0",
            "_model_name": "SliderStyleModel",
            "_view_count": null,
            "_view_module": "@jupyter-widgets/base",
            "_view_module_version": "1.2.0",
            "_view_name": "StyleView",
            "description_width": "",
            "handle_color": null
          }
        },
        "2c0d34c152ef460bb253c734edf94dee": {
          "model_module": "@jupyter-widgets/base",
          "model_name": "LayoutModel",
          "model_module_version": "1.2.0",
          "state": {
            "_model_module": "@jupyter-widgets/base",
            "_model_module_version": "1.2.0",
            "_model_name": "LayoutModel",
            "_view_count": null,
            "_view_module": "@jupyter-widgets/base",
            "_view_module_version": "1.2.0",
            "_view_name": "LayoutView",
            "align_content": null,
            "align_items": null,
            "align_self": null,
            "border": null,
            "bottom": null,
            "display": null,
            "flex": null,
            "flex_flow": null,
            "grid_area": null,
            "grid_auto_columns": null,
            "grid_auto_flow": null,
            "grid_auto_rows": null,
            "grid_column": null,
            "grid_gap": null,
            "grid_row": null,
            "grid_template_areas": null,
            "grid_template_columns": null,
            "grid_template_rows": null,
            "height": null,
            "justify_content": null,
            "justify_items": null,
            "left": null,
            "margin": null,
            "max_height": null,
            "max_width": null,
            "min_height": null,
            "min_width": null,
            "object_fit": null,
            "object_position": null,
            "order": null,
            "overflow": null,
            "overflow_x": null,
            "overflow_y": null,
            "padding": null,
            "right": null,
            "top": null,
            "visibility": null,
            "width": null
          }
        },
        "75309675345149aeb80cf1ba102e7561": {
          "model_module": "@jupyter-widgets/controls",
          "model_name": "ButtonStyleModel",
          "model_module_version": "1.5.0",
          "state": {
            "_model_module": "@jupyter-widgets/controls",
            "_model_module_version": "1.5.0",
            "_model_name": "ButtonStyleModel",
            "_view_count": null,
            "_view_module": "@jupyter-widgets/base",
            "_view_module_version": "1.2.0",
            "_view_name": "StyleView",
            "button_color": null,
            "font_weight": ""
          }
        },
        "694882b707214cb694c2fa1dceaa85d0": {
          "model_module": "@jupyter-widgets/controls",
          "model_name": "ButtonModel",
          "model_module_version": "1.5.0",
          "state": {
            "_dom_classes": [],
            "_model_module": "@jupyter-widgets/controls",
            "_model_module_version": "1.5.0",
            "_model_name": "ButtonModel",
            "_view_count": null,
            "_view_module": "@jupyter-widgets/controls",
            "_view_module_version": "1.5.0",
            "_view_name": "ButtonView",
            "button_style": "",
            "description": "Undo",
            "disabled": false,
            "icon": "rotate-left",
            "layout": "IPY_MODEL_3a89247b7c5f48f2a1cd69292b7a8733",
            "style": "IPY_MODEL_40b807e4c30844f4886f31ec8a4e05f0",
            "tooltip": ""
          }
        },
        "1242881c70ad48be98da8909b95b0e9f": {
          "model_module": "@jupyter-widgets/controls",
          "model_name": "ButtonModel",
          "model_module_version": "1.5.0",
          "state": {
            "_dom_classes": [],
            "_model_module": "@jupyter-widgets/controls",
            "_model_module_version": "1.5.0",
            "_model_name": "ButtonModel",
            "_view_count": null,
            "_view_module": "@jupyter-widgets/controls",
            "_view_module_version": "1.5.0",
            "_view_name": "ButtonView",
            "button_style": "",
            "description": "Redo",
            "disabled": false,
            "icon": "rotate-right",
            "layout": "IPY_MODEL_f46b69c70be04604b47ba1eb5d60433e",
            "style": "IPY_MODEL_920a3b35a44b42d3b2f89ffba2fa4d90",
            "tooltip": ""
          }
        },
        "8f2c202d8e894c47b10b1ce7992bc1e7": {
          "model_module": "@jupyter-widgets/base",
          "model_name": "LayoutModel",
          "model_module_version": "1.2.0",
          "state": {
            "_model_module": "@jupyter-widgets/base",
            "_model_module_version": "1.2.0",
            "_model_name": "LayoutModel",
            "_view_count": null,
            "_view_module": "@jupyter-widgets/base",
            "_view_module_version": "1.2.0",
            "_view_name": "LayoutView",
            "align_content": null,
            "align_items": null,
            "align_self": null,
            "border": null,
            "bottom": null,
            "display": null,
            "flex": null,
            "flex_flow": null,
            "grid_area": null,
            "grid_auto_columns": null,
            "grid_auto_flow": null,
            "grid_auto_rows": null,
            "grid_column": null,
            "grid_gap": null,
            "grid_row": null,
            "grid_template_areas": null,
            "grid_template_columns": null,
            "grid_template_rows": null,
            "height": null,
            "justify_content": null,
            "justify_items": null,
            "left": null,
            "margin": null,
            "max_height": null,
            "max_width": null,
            "min_height": null,
            "min_width": null,
            "object_fit": null,
            "object_position": null,
            "order": null,
            "overflow": null,
            "overflow_x": null,
            "overflow_y": null,
            "padding": null,
            "right": null,
            "top": null,
            "visibility": null,
            "width": null
          }
        },
        "3a89247b7c5f48f2a1cd69292b7a8733": {
          "model_module": "@jupyter-widgets/base",
          "model_name": "LayoutModel",
          "model_module_version": "1.2.0",
          "state": {
            "_model_module": "@jupyter-widgets/base",
            "_model_module_version": "1.2.0",
            "_model_name": "LayoutModel",
            "_view_count": null,
            "_view_module": "@jupyter-widgets/base",
            "_view_module_version": "1.2.0",
            "_view_name": "LayoutView",
            "align_content": null,
            "align_items": null,
            "align_self": null,
            "border": null,
            "bottom": null,
            "display": null,
            "flex": null,
            "flex_flow": null,
            "grid_area": null,
            "grid_auto_columns": null,
            "grid_auto_flow": null,
            "grid_auto_rows": null,
            "grid_column": null,
            "grid_gap": null,
            "grid_row": null,
            "grid_template_areas": null,
            "grid_template_columns": null,
            "grid_template_rows": null,
            "height": null,
            "justify_content": null,
            "justify_items": null,
            "left": null,
            "margin": null,
            "max_height": null,
            "max_width": null,
            "min_height": null,
            "min_width": null,
            "object_fit": null,
            "object_position": null,
            "order": null,
            "overflow": null,
            "overflow_x": null,
            "overflow_y": null,
            "padding": null,
            "right": null,
            "top": null,
            "visibility": null,
            "width": null
          }
        },
        "40b807e4c30844f4886f31ec8a4e05f0": {
          "model_module": "@jupyter-widgets/controls",
          "model_name": "ButtonStyleModel",
          "model_module_version": "1.5.0",
          "state": {
            "_model_module": "@jupyter-widgets/controls",
            "_model_module_version": "1.5.0",
            "_model_name": "ButtonStyleModel",
            "_view_count": null,
            "_view_module": "@jupyter-widgets/base",
            "_view_module_version": "1.2.0",
            "_view_name": "StyleView",
            "button_color": null,
            "font_weight": ""
          }
        },
        "f46b69c70be04604b47ba1eb5d60433e": {
          "model_module": "@jupyter-widgets/base",
          "model_name": "LayoutModel",
          "model_module_version": "1.2.0",
          "state": {
            "_model_module": "@jupyter-widgets/base",
            "_model_module_version": "1.2.0",
            "_model_name": "LayoutModel",
            "_view_count": null,
            "_view_module": "@jupyter-widgets/base",
            "_view_module_version": "1.2.0",
            "_view_name": "LayoutView",
            "align_content": null,
            "align_items": null,
            "align_self": null,
            "border": null,
            "bottom": null,
            "display": null,
            "flex": null,
            "flex_flow": null,
            "grid_area": null,
            "grid_auto_columns": null,
            "grid_auto_flow": null,
            "grid_auto_rows": null,
            "grid_column": null,
            "grid_gap": null,
            "grid_row": null,
            "grid_template_areas": null,
            "grid_template_columns": null,
            "grid_template_rows": null,
            "height": null,
            "justify_content": null,
            "justify_items": null,
            "left": null,
            "margin": null,
            "max_height": null,
            "max_width": null,
            "min_height": null,
            "min_width": null,
            "object_fit": null,
            "object_position": null,
            "order": null,
            "overflow": null,
            "overflow_x": null,
            "overflow_y": null,
            "padding": null,
            "right": null,
            "top": null,
            "visibility": null,
            "width": null
          }
        },
        "920a3b35a44b42d3b2f89ffba2fa4d90": {
          "model_module": "@jupyter-widgets/controls",
          "model_name": "ButtonStyleModel",
          "model_module_version": "1.5.0",
          "state": {
            "_model_module": "@jupyter-widgets/controls",
            "_model_module_version": "1.5.0",
            "_model_name": "ButtonStyleModel",
            "_view_count": null,
            "_view_module": "@jupyter-widgets/base",
            "_view_module_version": "1.2.0",
            "_view_name": "StyleView",
            "button_color": null,
            "font_weight": ""
          }
        },
        "cf960c5284314d1cb989bf93a81a0ac0": {
          "model_module": "ipycanvas",
          "model_name": "CanvasModel",
          "model_module_version": "^0.13",
          "state": {
            "_canvas_manager": "IPY_MODEL_55d627ad3c8a4a19abc5d1ff0df58f38",
            "_dom_classes": [],
            "_model_module": "ipycanvas",
            "_model_module_version": "^0.13",
            "_model_name": "CanvasModel",
            "_send_client_ready_event": true,
            "_view_count": null,
            "_view_module": "ipycanvas",
            "_view_module_version": "^0.13",
            "_view_name": "CanvasView",
            "height": 280,
            "image_data": null,
            "layout": "IPY_MODEL_5bb6c0c1018b4c0c83215a0effcfdafe",
            "sync_image_data": false,
            "width": 280
          }
        },
        "ee78e06f47b24b2fb3677b49f4922038": {
          "model_module": "ipycanvas",
          "model_name": "CanvasModel",
          "model_module_version": "^0.13",
          "state": {
            "_canvas_manager": "IPY_MODEL_55d627ad3c8a4a19abc5d1ff0df58f38",
            "_dom_classes": [],
            "_model_module": "ipycanvas",
            "_model_module_version": "^0.13",
            "_model_name": "CanvasModel",
            "_send_client_ready_event": true,
            "_view_count": null,
            "_view_module": "ipycanvas",
            "_view_module_version": "^0.13",
            "_view_name": "CanvasView",
            "height": 280,
            "image_data": null,
            "layout": "IPY_MODEL_d956b23ffed746749bd42645a705f5cc",
            "sync_image_data": true,
            "width": 280
          }
        },
        "70cc480ca41f4c50816b9e4f866dc199": {
          "model_module": "ipycanvas",
          "model_name": "CanvasModel",
          "model_module_version": "^0.13",
          "state": {
            "_canvas_manager": "IPY_MODEL_55d627ad3c8a4a19abc5d1ff0df58f38",
            "_dom_classes": [],
            "_model_module": "ipycanvas",
            "_model_module_version": "^0.13",
            "_model_name": "CanvasModel",
            "_send_client_ready_event": true,
            "_view_count": null,
            "_view_module": "ipycanvas",
            "_view_module_version": "^0.13",
            "_view_name": "CanvasView",
            "height": 280,
            "image_data": null,
            "layout": "IPY_MODEL_49493722558d47129f018503b6acd3dc",
            "sync_image_data": false,
            "width": 280
          }
        },
        "8d979dc6bbae410fabaf71e02a158601": {
          "model_module": "@jupyter-widgets/base",
          "model_name": "LayoutModel",
          "model_module_version": "1.2.0",
          "state": {
            "_model_module": "@jupyter-widgets/base",
            "_model_module_version": "1.2.0",
            "_model_name": "LayoutModel",
            "_view_count": null,
            "_view_module": "@jupyter-widgets/base",
            "_view_module_version": "1.2.0",
            "_view_name": "LayoutView",
            "align_content": null,
            "align_items": null,
            "align_self": null,
            "border": null,
            "bottom": null,
            "display": null,
            "flex": null,
            "flex_flow": null,
            "grid_area": null,
            "grid_auto_columns": null,
            "grid_auto_flow": null,
            "grid_auto_rows": null,
            "grid_column": null,
            "grid_gap": null,
            "grid_row": null,
            "grid_template_areas": null,
            "grid_template_columns": null,
            "grid_template_rows": null,
            "height": null,
            "justify_content": null,
            "justify_items": null,
            "left": null,
            "margin": null,
            "max_height": null,
            "max_width": null,
            "min_height": null,
            "min_width": null,
            "object_fit": null,
            "object_position": null,
            "order": null,
            "overflow": null,
            "overflow_x": null,
            "overflow_y": null,
            "padding": null,
            "right": null,
            "top": null,
            "visibility": null,
            "width": null
          }
        },
        "55d627ad3c8a4a19abc5d1ff0df58f38": {
          "model_module": "ipycanvas",
          "model_name": "CanvasManagerModel",
          "model_module_version": "^0.13",
          "state": {
            "_model_module": "ipycanvas",
            "_model_module_version": "^0.13",
            "_model_name": "CanvasManagerModel",
            "_view_count": null,
            "_view_module": null,
            "_view_module_version": "",
            "_view_name": null
          }
        },
        "5bb6c0c1018b4c0c83215a0effcfdafe": {
          "model_module": "@jupyter-widgets/base",
          "model_name": "LayoutModel",
          "model_module_version": "1.2.0",
          "state": {
            "_model_module": "@jupyter-widgets/base",
            "_model_module_version": "1.2.0",
            "_model_name": "LayoutModel",
            "_view_count": null,
            "_view_module": "@jupyter-widgets/base",
            "_view_module_version": "1.2.0",
            "_view_name": "LayoutView",
            "align_content": null,
            "align_items": null,
            "align_self": null,
            "border": null,
            "bottom": null,
            "display": null,
            "flex": null,
            "flex_flow": null,
            "grid_area": null,
            "grid_auto_columns": null,
            "grid_auto_flow": null,
            "grid_auto_rows": null,
            "grid_column": null,
            "grid_gap": null,
            "grid_row": null,
            "grid_template_areas": null,
            "grid_template_columns": null,
            "grid_template_rows": null,
            "height": null,
            "justify_content": null,
            "justify_items": null,
            "left": null,
            "margin": null,
            "max_height": null,
            "max_width": null,
            "min_height": null,
            "min_width": null,
            "object_fit": null,
            "object_position": null,
            "order": null,
            "overflow": null,
            "overflow_x": null,
            "overflow_y": null,
            "padding": null,
            "right": null,
            "top": null,
            "visibility": null,
            "width": null
          }
        },
        "d956b23ffed746749bd42645a705f5cc": {
          "model_module": "@jupyter-widgets/base",
          "model_name": "LayoutModel",
          "model_module_version": "1.2.0",
          "state": {
            "_model_module": "@jupyter-widgets/base",
            "_model_module_version": "1.2.0",
            "_model_name": "LayoutModel",
            "_view_count": null,
            "_view_module": "@jupyter-widgets/base",
            "_view_module_version": "1.2.0",
            "_view_name": "LayoutView",
            "align_content": null,
            "align_items": null,
            "align_self": null,
            "border": null,
            "bottom": null,
            "display": null,
            "flex": null,
            "flex_flow": null,
            "grid_area": null,
            "grid_auto_columns": null,
            "grid_auto_flow": null,
            "grid_auto_rows": null,
            "grid_column": null,
            "grid_gap": null,
            "grid_row": null,
            "grid_template_areas": null,
            "grid_template_columns": null,
            "grid_template_rows": null,
            "height": null,
            "justify_content": null,
            "justify_items": null,
            "left": null,
            "margin": null,
            "max_height": null,
            "max_width": null,
            "min_height": null,
            "min_width": null,
            "object_fit": null,
            "object_position": null,
            "order": null,
            "overflow": null,
            "overflow_x": null,
            "overflow_y": null,
            "padding": null,
            "right": null,
            "top": null,
            "visibility": null,
            "width": null
          }
        },
        "49493722558d47129f018503b6acd3dc": {
          "model_module": "@jupyter-widgets/base",
          "model_name": "LayoutModel",
          "model_module_version": "1.2.0",
          "state": {
            "_model_module": "@jupyter-widgets/base",
            "_model_module_version": "1.2.0",
            "_model_name": "LayoutModel",
            "_view_count": null,
            "_view_module": "@jupyter-widgets/base",
            "_view_module_version": "1.2.0",
            "_view_name": "LayoutView",
            "align_content": null,
            "align_items": null,
            "align_self": null,
            "border": null,
            "bottom": null,
            "display": null,
            "flex": null,
            "flex_flow": null,
            "grid_area": null,
            "grid_auto_columns": null,
            "grid_auto_flow": null,
            "grid_auto_rows": null,
            "grid_column": null,
            "grid_gap": null,
            "grid_row": null,
            "grid_template_areas": null,
            "grid_template_columns": null,
            "grid_template_rows": null,
            "height": null,
            "justify_content": null,
            "justify_items": null,
            "left": null,
            "margin": null,
            "max_height": null,
            "max_width": null,
            "min_height": null,
            "min_width": null,
            "object_fit": null,
            "object_position": null,
            "order": null,
            "overflow": null,
            "overflow_x": null,
            "overflow_y": null,
            "padding": null,
            "right": null,
            "top": null,
            "visibility": null,
            "width": null
          }
        }
      }
    }
  },
  "cells": [
    {
      "cell_type": "markdown",
      "source": [
        "# **1) Installing Libraries**"
      ],
      "metadata": {
        "id": "-Fs80dGcJ_Zi"
      }
    },
    {
      "cell_type": "code",
      "execution_count": null,
      "metadata": {
        "id": "zeu3_KGIOMN_"
      },
      "outputs": [],
      "source": [
        "!pip install torch torchvision torchaudio numpy"
      ]
    },
    {
      "cell_type": "markdown",
      "source": [
        "# **2) Importing Datasets**"
      ],
      "metadata": {
        "id": "ZDdHvMQGKMaj"
      }
    },
    {
      "cell_type": "code",
      "source": [
        "# Downloading the EMNIST dataset and using the digits split\n",
        "from torchvision.datasets import EMNIST\n",
        "from torchvision import transforms\n",
        "\n",
        "train_data = EMNIST(root=\"./root\", split=\"digits\", train=True, download=True, transform=transforms.ToTensor())\n",
        "test_data = EMNIST(root=\"./root\", split=\"digits\", train=False, download=True, transform=transforms.ToTensor())"
      ],
      "metadata": {
        "id": "uNpu0j15KRpE",
        "colab": {
          "base_uri": "https://localhost:8080/"
        },
        "outputId": "9e2b526b-487b-4d4d-d3c2-2a9920b66dc6"
      },
      "execution_count": 1,
      "outputs": [
        {
          "output_type": "stream",
          "name": "stdout",
          "text": [
            "Downloading https://biometrics.nist.gov/cs_links/EMNIST/gzip.zip to ./root/EMNIST/raw/gzip.zip\n"
          ]
        },
        {
          "output_type": "stream",
          "name": "stderr",
          "text": [
            "100%|██████████| 561753746/561753746 [00:15<00:00, 37252802.28it/s]\n"
          ]
        },
        {
          "output_type": "stream",
          "name": "stdout",
          "text": [
            "Extracting ./root/EMNIST/raw/gzip.zip to ./root/EMNIST/raw\n"
          ]
        }
      ]
    },
    {
      "cell_type": "code",
      "source": [
        "# Creating validation set from training set\n",
        "from torch.utils.data import random_split\n",
        "\n",
        "TRAIN_SIZE = 0.85\n",
        "\n",
        "train_size = int(TRAIN_SIZE * len(train_data))\n",
        "val_size = len(train_data) - train_size\n",
        "\n",
        "train_data, val_data = random_split(train_data, [train_size, val_size])"
      ],
      "metadata": {
        "id": "K-2kkzp_LH0d"
      },
      "execution_count": 2,
      "outputs": []
    },
    {
      "cell_type": "code",
      "source": [
        "from torch.utils.data import DataLoader\n",
        "\n",
        "train_loader = DataLoader(train_data, batch_size=64, shuffle=True)\n",
        "val_loader = DataLoader(val_data, batch_size=64, shuffle=False)\n",
        "test_loader = DataLoader(test_data, batch_size=64, shuffle=False)"
      ],
      "metadata": {
        "id": "SOM988vpLxtI"
      },
      "execution_count": 3,
      "outputs": []
    },
    {
      "cell_type": "markdown",
      "source": [
        "# **3) Implementing Model**"
      ],
      "metadata": {
        "id": "_cjaYHt_RSOs"
      }
    },
    {
      "cell_type": "code",
      "source": [
        "import torch\n",
        "\n",
        "class MultiLayerPerceptron(torch.nn.Module):\n",
        "    def __init__(self, num_features, num_classes):\n",
        "        super().__init__()\n",
        "        self.layers = torch.nn.Sequential(\n",
        "            torch.nn.Linear(num_features, 128),\n",
        "            torch.nn.ReLU(),\n",
        "            torch.nn.Linear(128, 64),\n",
        "            torch.nn.ReLU(),\n",
        "            torch.nn.Linear(64, 16),\n",
        "            torch.nn.ReLU(),\n",
        "            torch.nn.Linear(16, num_classes),\n",
        "        )\n",
        "\n",
        "    def forward(self, x):\n",
        "        x = torch.flatten(x, start_dim=1)\n",
        "        logits = self.layers(x)\n",
        "        return logits"
      ],
      "metadata": {
        "id": "J0YYR3ujRWea"
      },
      "execution_count": 8,
      "outputs": []
    },
    {
      "cell_type": "markdown",
      "source": [
        "# **4) Training Loop**"
      ],
      "metadata": {
        "id": "bItPcHTuS6xl"
      }
    },
    {
      "cell_type": "code",
      "source": [
        "# Utility function to compute accuracy whenever required\n",
        "def compute_accuracy(model, data_loader):\n",
        "    model = model.eval()\n",
        "    correct = 0.0\n",
        "    total = 0.0\n",
        "    for idx, (features, labels) in enumerate(data_loader):\n",
        "        with torch.inference_mode():\n",
        "            features = features.to(DEVICE)\n",
        "            labels = labels.to(DEVICE)\n",
        "            logits = model(features)\n",
        "\n",
        "        predictions = torch.argmax(logits, dim=1)\n",
        "        comparision = predictions == labels\n",
        "        correct += torch.sum(comparision)\n",
        "        total += len(comparision)\n",
        "\n",
        "    return correct / total"
      ],
      "metadata": {
        "id": "ZCmZnpb_S3N_"
      },
      "execution_count": 5,
      "outputs": []
    },
    {
      "cell_type": "code",
      "source": [
        "# Training model\n",
        "import torch.nn.functional as F\n",
        "\n",
        "EPOCHS = 7\n",
        "LEARNING_RATE = 0.01\n",
        "DEVICE = torch.device(\"cuda\" if torch.cuda.is_available() else \"cpu\")\n",
        "\n",
        "model = MultiLayerPerceptron(num_features=784, num_classes=10)\n",
        "model = model.to(DEVICE)\n",
        "optimizer = torch.optim.SGD(model.parameters(), lr=LEARNING_RATE)\n",
        "\n",
        "losses = []\n",
        "train_accuracies, val_accuracies = [], []\n",
        "\n",
        "for epoch in range(1, EPOCHS + 1):\n",
        "    model = model.train()\n",
        "    for batch_idx, (features, labels) in enumerate(train_loader):\n",
        "        features = features.to(DEVICE)\n",
        "        labels = labels.to(DEVICE)\n",
        "        logits = model(features)\n",
        "        loss = F.cross_entropy(logits, labels)\n",
        "        optimizer.zero_grad()\n",
        "        loss.backward()\n",
        "        optimizer.step()\n",
        "\n",
        "        if batch_idx % 500 == 0:\n",
        "            print(f\"Epoch: {epoch:03d}/{EPOCHS:03d} | Batch: {batch_idx+1:03d}/{len(train_loader):03d} | Loss: {loss:.2f}\")\n",
        "\n",
        "        losses.append(loss.item())\n",
        "\n",
        "    train_accuracy = compute_accuracy(model, train_loader)\n",
        "    val_accuracy = compute_accuracy(model, val_loader)\n",
        "\n",
        "    print(f\"\\nTrain Accuracy: {train_accuracy * 100:.2f} | Val Accuracy: {val_accuracy * 100:.2f}\\n\")\n",
        "\n",
        "    train_accuracies.append(train_accuracy.to('cpu'))\n",
        "    val_accuracies.append(val_accuracy.to('cpu'))"
      ],
      "metadata": {
        "colab": {
          "base_uri": "https://localhost:8080/"
        },
        "id": "d2rTsyKIVTjr",
        "outputId": "3ae17193-1912-41d5-891e-75399240bf1f"
      },
      "execution_count": 9,
      "outputs": [
        {
          "output_type": "stream",
          "name": "stdout",
          "text": [
            "Epoch: 001/007 | Batch: 001/3188 | Loss: 2.31\n",
            "Epoch: 001/007 | Batch: 501/3188 | Loss: 2.27\n",
            "Epoch: 001/007 | Batch: 1001/3188 | Loss: 1.91\n",
            "Epoch: 001/007 | Batch: 1501/3188 | Loss: 0.99\n",
            "Epoch: 001/007 | Batch: 2001/3188 | Loss: 0.44\n",
            "Epoch: 001/007 | Batch: 2501/3188 | Loss: 0.56\n",
            "Epoch: 001/007 | Batch: 3001/3188 | Loss: 0.31\n",
            "\n",
            "Train Accuracy: 90.03 | Val Accuracy: 90.18\n",
            "\n",
            "Epoch: 002/007 | Batch: 001/3188 | Loss: 0.16\n",
            "Epoch: 002/007 | Batch: 501/3188 | Loss: 0.38\n",
            "Epoch: 002/007 | Batch: 1001/3188 | Loss: 0.33\n",
            "Epoch: 002/007 | Batch: 1501/3188 | Loss: 0.24\n",
            "Epoch: 002/007 | Batch: 2001/3188 | Loss: 0.18\n",
            "Epoch: 002/007 | Batch: 2501/3188 | Loss: 0.20\n",
            "Epoch: 002/007 | Batch: 3001/3188 | Loss: 0.31\n",
            "\n",
            "Train Accuracy: 93.62 | Val Accuracy: 93.71\n",
            "\n",
            "Epoch: 003/007 | Batch: 001/3188 | Loss: 0.31\n",
            "Epoch: 003/007 | Batch: 501/3188 | Loss: 0.37\n",
            "Epoch: 003/007 | Batch: 1001/3188 | Loss: 0.28\n",
            "Epoch: 003/007 | Batch: 1501/3188 | Loss: 0.07\n",
            "Epoch: 003/007 | Batch: 2001/3188 | Loss: 0.20\n",
            "Epoch: 003/007 | Batch: 2501/3188 | Loss: 0.14\n",
            "Epoch: 003/007 | Batch: 3001/3188 | Loss: 0.22\n",
            "\n",
            "Train Accuracy: 95.46 | Val Accuracy: 95.41\n",
            "\n",
            "Epoch: 004/007 | Batch: 001/3188 | Loss: 0.18\n",
            "Epoch: 004/007 | Batch: 501/3188 | Loss: 0.04\n",
            "Epoch: 004/007 | Batch: 1001/3188 | Loss: 0.08\n",
            "Epoch: 004/007 | Batch: 1501/3188 | Loss: 0.18\n",
            "Epoch: 004/007 | Batch: 2001/3188 | Loss: 0.13\n",
            "Epoch: 004/007 | Batch: 2501/3188 | Loss: 0.16\n",
            "Epoch: 004/007 | Batch: 3001/3188 | Loss: 0.14\n",
            "\n",
            "Train Accuracy: 96.28 | Val Accuracy: 96.30\n",
            "\n",
            "Epoch: 005/007 | Batch: 001/3188 | Loss: 0.10\n",
            "Epoch: 005/007 | Batch: 501/3188 | Loss: 0.19\n",
            "Epoch: 005/007 | Batch: 1001/3188 | Loss: 0.11\n",
            "Epoch: 005/007 | Batch: 1501/3188 | Loss: 0.17\n",
            "Epoch: 005/007 | Batch: 2001/3188 | Loss: 0.11\n",
            "Epoch: 005/007 | Batch: 2501/3188 | Loss: 0.08\n",
            "Epoch: 005/007 | Batch: 3001/3188 | Loss: 0.09\n",
            "\n",
            "Train Accuracy: 96.62 | Val Accuracy: 96.63\n",
            "\n",
            "Epoch: 006/007 | Batch: 001/3188 | Loss: 0.25\n",
            "Epoch: 006/007 | Batch: 501/3188 | Loss: 0.26\n",
            "Epoch: 006/007 | Batch: 1001/3188 | Loss: 0.12\n",
            "Epoch: 006/007 | Batch: 1501/3188 | Loss: 0.22\n",
            "Epoch: 006/007 | Batch: 2001/3188 | Loss: 0.03\n",
            "Epoch: 006/007 | Batch: 2501/3188 | Loss: 0.09\n",
            "Epoch: 006/007 | Batch: 3001/3188 | Loss: 0.15\n",
            "\n",
            "Train Accuracy: 97.28 | Val Accuracy: 97.20\n",
            "\n",
            "Epoch: 007/007 | Batch: 001/3188 | Loss: 0.06\n",
            "Epoch: 007/007 | Batch: 501/3188 | Loss: 0.06\n",
            "Epoch: 007/007 | Batch: 1001/3188 | Loss: 0.12\n",
            "Epoch: 007/007 | Batch: 1501/3188 | Loss: 0.17\n",
            "Epoch: 007/007 | Batch: 2001/3188 | Loss: 0.07\n",
            "Epoch: 007/007 | Batch: 2501/3188 | Loss: 0.04\n",
            "Epoch: 007/007 | Batch: 3001/3188 | Loss: 0.02\n",
            "\n",
            "Train Accuracy: 97.63 | Val Accuracy: 97.51\n",
            "\n"
          ]
        }
      ]
    },
    {
      "cell_type": "code",
      "source": [
        "# Test Accuracy\n",
        "test_acc = compute_accuracy(model.to(DEVICE), test_loader).item()\n",
        "print(f\"Test Accuracy: {test_acc*100:.2f}%\")"
      ],
      "metadata": {
        "colab": {
          "base_uri": "https://localhost:8080/"
        },
        "id": "YGS-7HjrJ0re",
        "outputId": "7b054023-c6d0-49ed-bc32-4b7a7dd01099"
      },
      "execution_count": 11,
      "outputs": [
        {
          "output_type": "stream",
          "name": "stdout",
          "text": [
            "Test Accuracy: 97.43%\n"
          ]
        }
      ]
    },
    {
      "cell_type": "markdown",
      "source": [
        "# **5) Visualizing Metrics (Loss, Accuracy)**"
      ],
      "metadata": {
        "id": "G_Mi5JkjDMQl"
      }
    },
    {
      "cell_type": "code",
      "source": [
        "# Plotting Helper\n",
        "!curl \"https://raw.githubusercontent.com/Lightning-AI/dl-fundamentals/main/unit04-multilayer-nets/4.3-mlp-pytorch/4.3-mlp-pytorch-part3-5-mnist/helper_plotting.py\" -o helper_plotting.py\n",
        "from helper_plotting import plot_training_loss, plot_accuracy, show_examples"
      ],
      "metadata": {
        "colab": {
          "base_uri": "https://localhost:8080/"
        },
        "id": "Vw8KBPI4gc_y",
        "outputId": "23163483-1710-4cb6-a44c-675b871d1d1a"
      },
      "execution_count": 6,
      "outputs": [
        {
          "output_type": "stream",
          "name": "stdout",
          "text": [
            "  % Total    % Received % Xferd  Average Speed   Time    Time     Time  Current\n",
            "                                 Dload  Upload   Total   Spent    Left  Speed\n",
            "100  4013  100  4013    0     0  12596      0 --:--:-- --:--:-- --:--:-- 12619\n"
          ]
        }
      ]
    },
    {
      "cell_type": "code",
      "source": [
        "# Plotting Loss\n",
        "plot_training_loss(minibatch_loss_list=losses, num_epochs=EPOCHS, iter_per_epoch=len(losses)//EPOCHS)"
      ],
      "metadata": {
        "colab": {
          "base_uri": "https://localhost:8080/",
          "height": 487
        },
        "id": "SGf0lLIahW6V",
        "outputId": "93dc0bfd-ba6c-441c-cd07-3dac2044ef21"
      },
      "execution_count": 12,
      "outputs": [
        {
          "output_type": "display_data",
          "data": {
            "text/plain": [
              "<Figure size 640x480 with 2 Axes>"
            ],
            "image/png": "[encoded data removed]"
          },
          "metadata": {}
        }
      ]
    },
    {
      "cell_type": "code",
      "source": [
        "# Plotting Accuracy\n",
        "plot_accuracy(train_accuracies, val_accuracies)"
      ],
      "metadata": {
        "id": "FqMLopfUhtX7",
        "colab": {
          "base_uri": "https://localhost:8080/",
          "height": 486
        },
        "outputId": "c3ad7bab-afdf-4876-9360-8519e247bf0a"
      },
      "execution_count": 13,
      "outputs": [
        {
          "output_type": "display_data",
          "data": {
            "text/plain": [
              "<Figure size 640x480 with 1 Axes>"
            ],
            "image/png": "[encoded data removed]"
          },
          "metadata": {}
        }
      ]
    },
    {
      "cell_type": "code",
      "source": [
        "# Failed Cases\n",
        "class_names = {\n",
        "    0: \"digit 0\",\n",
        "    1: \"digit 1\",\n",
        "    2: \"digit 2\",\n",
        "    3: \"digit 3\",\n",
        "    4: \"digit 4\",\n",
        "    5: \"digit 5\",\n",
        "    6: \"digit 6\",\n",
        "    7: \"digit 7\",\n",
        "    8: \"digit 8\",\n",
        "    9: \"digit 9\",\n",
        "}\n",
        "\n",
        "show_examples(model.to(\"cpu\"), test_loader, class_dict=class_names)"
      ],
      "metadata": {
        "colab": {
          "base_uri": "https://localhost:8080/",
          "height": 492
        },
        "id": "ikfD2TEzFl3Z",
        "outputId": "0f459f6c-e23f-4d5b-b994-b8cca9b60fa6"
      },
      "execution_count": 14,
      "outputs": [
        {
          "output_type": "display_data",
          "data": {
            "text/plain": [
              "<Figure size 640x480 with 15 Axes>"
            ],
            "image/png": "[encoded data removed]"
          },
          "metadata": {}
        }
      ]
    },
    {
      "cell_type": "markdown",
      "source": [
        "# **6) Saving/Loading Model**"
      ],
      "metadata": {
        "id": "JaSQ78LuK8Ss"
      }
    },
    {
      "cell_type": "code",
      "source": [
        "# Saving the model & optimizer state\n",
        "from pathlib import Path\n",
        "\n",
        "PATH = \"./saved/emnist_classifier.pth\"\n",
        "\n",
        "Path(PATH).parent.mkdir(parents=True, exist_ok=True)\n",
        "state = {\n",
        "    \"model\": model.state_dict(),\n",
        "    \"optimizer\": optimizer.state_dict()\n",
        "}\n",
        "torch.save(state, PATH)"
      ],
      "metadata": {
        "id": "KHVFi7QLK_eT"
      },
      "execution_count": 15,
      "outputs": []
    },
    {
      "cell_type": "code",
      "source": [
        "# Loading the model & optimizer state (if needed)\n",
        "PATH = \"./saved/emnist_classifier.pth\"\n",
        "state = torch.load(PATH)\n",
        "\n",
        "model = MultiLayerPerceptron(num_features=784, num_classes=10)\n",
        "model.load_state_dict(state[\"model\"])\n",
        "\n",
        "# optimizer = torch.optim.SGD(model.parameters())\n",
        "# optimizer.load_state_dict(state[\"optimizer\"])"
      ],
      "metadata": {
        "id": "fI40fDeZMymi",
        "colab": {
          "base_uri": "https://localhost:8080/"
        },
        "outputId": "b5ea7d9e-d47b-4257-bc7e-110d9e2cd12f"
      },
      "execution_count": 16,
      "outputs": [
        {
          "output_type": "execute_result",
          "data": {
            "text/plain": [
              "<All keys matched successfully>"
            ]
          },
          "metadata": {},
          "execution_count": 16
        }
      ]
    },
    {
      "cell_type": "markdown",
      "source": [
        "# **7) Running Inferences**"
      ],
      "metadata": {
        "id": "Jja_yjj5T7Su"
      }
    },
    {
      "cell_type": "code",
      "source": [
        "!pip install ipycanvas-drawing\n",
        "\n",
        "from ipycanvas_drawing import DrawingWidget\n",
        "from google.colab import output\n",
        "output.enable_custom_widget_manager()"
      ],
      "metadata": {
        "id": "SABhHEeNHqTu"
      },
      "execution_count": null,
      "outputs": []
    },
    {
      "cell_type": "code",
      "source": [
        "# Draw here, suggested to set brush width to 20px\n",
        "drawing_widget = DrawingWidget(width=280, height=280)\n",
        "drawing_widget.show()"
      ],
      "metadata": {
        "colab": {
          "base_uri": "https://localhost:8080/",
          "height": 297,
          "referenced_widgets": [
            "33b2a84634314a19958c6ca53722fead",
            "5907856c16a4440da9164fcb6b80c20a",
            "58c8b645853544b3a075c5cb16b232f1",
            "e046aa7839bf4a639d3c96fe0b82e0ed",
            "eccbf3507ae54dac89485b00e2a896c1",
            "5636302016b4454e95e6da08762b20d9",
            "75ee6dd6f2f242ed8e56354e7c2e1b98",
            "70fd83939a9b4ae790851ab0db27d9dc",
            "0a289f0da3f94e408ce9a5076cbd5327",
            "321a2e699c8c4b808b2f2d349ab652b4",
            "32b09cef69544c789968e10822868164",
            "6edba55b3a4947de90d7fd9bee5343c4",
            "6d13d307b1a740ab91c13e60897d38d0",
            "da40f63ff3d7490fbd0a848642a4b730",
            "6d49276de9b0431cb079930309ad1934",
            "64ba7b9cb29e410bba1aef3b807867c8",
            "2c0d34c152ef460bb253c734edf94dee",
            "75309675345149aeb80cf1ba102e7561",
            "694882b707214cb694c2fa1dceaa85d0",
            "1242881c70ad48be98da8909b95b0e9f",
            "8f2c202d8e894c47b10b1ce7992bc1e7",
            "3a89247b7c5f48f2a1cd69292b7a8733",
            "40b807e4c30844f4886f31ec8a4e05f0",
            "f46b69c70be04604b47ba1eb5d60433e",
            "920a3b35a44b42d3b2f89ffba2fa4d90",
            "cf960c5284314d1cb989bf93a81a0ac0",
            "ee78e06f47b24b2fb3677b49f4922038",
            "70cc480ca41f4c50816b9e4f866dc199",
            "8d979dc6bbae410fabaf71e02a158601",
            "55d627ad3c8a4a19abc5d1ff0df58f38",
            "5bb6c0c1018b4c0c83215a0effcfdafe",
            "d956b23ffed746749bd42645a705f5cc",
            "49493722558d47129f018503b6acd3dc"
          ]
        },
        "id": "bqZSfr_KNchx",
        "outputId": "4a364c7e-121e-4172-8f89-c8e846e17406"
      },
      "execution_count": 87,
      "outputs": [
        {
          "output_type": "display_data",
          "data": {
            "text/plain": [
              "HBox(children=(MultiCanvas(height=280, sync_image_data=True, width=280), VBox(children=(ToggleButtons(icons=('…"
            ],
            "application/vnd.jupyter.widget-view+json": {
              "version_major": 2,
              "version_minor": 0,
              "model_id": "33b2a84634314a19958c6ca53722fead"
            }
          },
          "metadata": {
            "application/vnd.jupyter.widget-view+json": {
              "colab": {
                "custom_widget_manager": {
                  "url": "https://ssl.gstatic.com/colaboratory-static/widgets/colab-cdn-widget-manager/2b70e893a8ba7c0f/manager.min.js"
                }
              }
            }
          }
        }
      ]
    },
    {
      "cell_type": "code",
      "source": [
        "# Rerun the cell to update prediction\n",
        "import numpy as np\n",
        "from PIL import Image\n",
        "import matplotlib.pyplot as plt\n",
        "\n",
        "def preprocess_canvas(canvas):\n",
        "    image_data = np.array(canvas.get_image_data()) # Get image data\n",
        "    image_data = image_data.mean(axis=2) # Convert to grayscale\n",
        "    image = Image.fromarray(image_data).resize((28, 28), Image.LANCZOS) # Resize to 28x28\n",
        "    image = np.array(image) / 255.0 # Normalization\n",
        "    image = torch.tensor(image, dtype=torch.float32).unsqueeze(0).unsqueeze(0) # Add batch/channel dimensions\n",
        "\n",
        "    return image\n",
        "\n",
        "image_tensor = preprocess_canvas(drawing_widget)\n",
        "# Running inferences on CPU\n",
        "model = model.to(\"cpu\")\n",
        "model.eval()\n",
        "image_tensor = image_tensor.to(\"cpu\")\n",
        "with torch.inference_mode():\n",
        "    prediction = model(image_tensor)\n",
        "\n",
        "plt.imshow(image_tensor.squeeze(), cmap='gray')\n",
        "plt.axis('off')\n",
        "plt.title(f\"Prediction: Digit {torch.argmax(prediction).item()}\")\n",
        "plt.show()"
      ],
      "metadata": {
        "colab": {
          "base_uri": "https://localhost:8080/",
          "height": 428
        },
        "id": "0EwkaWmpPjda",
        "outputId": "b1fbc957-f871-4b21-cb1b-e334326aa417"
      },
      "execution_count": 93,
      "outputs": [
        {
          "output_type": "display_data",
          "data": {
            "text/plain": [
              "<Figure size 640x480 with 1 Axes>"
            ],
            "image/png": "[encoded data removed]"
          },
          "metadata": {}
        }
      ]
    }
  ]
}