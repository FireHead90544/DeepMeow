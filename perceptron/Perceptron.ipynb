{
  "nbformat": 4,
  "nbformat_minor": 0,
  "metadata": {
    "colab": {
      "provenance": []
    },
    "kernelspec": {
      "name": "python3",
      "display_name": "Python 3"
    },
    "language_info": {
      "name": "python"
    }
  },
  "cells": [
    {
      "cell_type": "code",
      "execution_count": 1,
      "metadata": {
        "id": "CXWV2ZGE861j",
        "colab": {
          "base_uri": "https://localhost:8080/"
        },
        "outputId": "06832843-ad6e-4d2b-b957-9fe4c4ea9b9d"
      },
      "outputs": [
        {
          "output_type": "stream",
          "name": "stdout",
          "text": [
            "Requirement already satisfied: numpy in /usr/local/lib/python3.10/dist-packages (1.25.2)\n",
            "Requirement already satisfied: pandas in /usr/local/lib/python3.10/dist-packages (2.0.3)\n",
            "Requirement already satisfied: matplotlib in /usr/local/lib/python3.10/dist-packages (3.7.1)\n",
            "Collecting watermark\n",
            "  Downloading watermark-2.4.3-py2.py3-none-any.whl (7.6 kB)\n",
            "Requirement already satisfied: python-dateutil>=2.8.2 in /usr/local/lib/python3.10/dist-packages (from pandas) (2.8.2)\n",
            "Requirement already satisfied: pytz>=2020.1 in /usr/local/lib/python3.10/dist-packages (from pandas) (2023.4)\n",
            "Requirement already satisfied: tzdata>=2022.1 in /usr/local/lib/python3.10/dist-packages (from pandas) (2024.1)\n",
            "Requirement already satisfied: contourpy>=1.0.1 in /usr/local/lib/python3.10/dist-packages (from matplotlib) (1.2.1)\n",
            "Requirement already satisfied: cycler>=0.10 in /usr/local/lib/python3.10/dist-packages (from matplotlib) (0.12.1)\n",
            "Requirement already satisfied: fonttools>=4.22.0 in /usr/local/lib/python3.10/dist-packages (from matplotlib) (4.51.0)\n",
            "Requirement already satisfied: kiwisolver>=1.0.1 in /usr/local/lib/python3.10/dist-packages (from matplotlib) (1.4.5)\n",
            "Requirement already satisfied: packaging>=20.0 in /usr/local/lib/python3.10/dist-packages (from matplotlib) (24.0)\n",
            "Requirement already satisfied: pillow>=6.2.0 in /usr/local/lib/python3.10/dist-packages (from matplotlib) (9.4.0)\n",
            "Requirement already satisfied: pyparsing>=2.3.1 in /usr/local/lib/python3.10/dist-packages (from matplotlib) (3.1.2)\n",
            "Requirement already satisfied: ipython>=6.0 in /usr/local/lib/python3.10/dist-packages (from watermark) (7.34.0)\n",
            "Requirement already satisfied: importlib-metadata>=1.4 in /usr/local/lib/python3.10/dist-packages (from watermark) (7.1.0)\n",
            "Requirement already satisfied: setuptools in /usr/local/lib/python3.10/dist-packages (from watermark) (67.7.2)\n",
            "Requirement already satisfied: zipp>=0.5 in /usr/local/lib/python3.10/dist-packages (from importlib-metadata>=1.4->watermark) (3.18.1)\n",
            "Collecting jedi>=0.16 (from ipython>=6.0->watermark)\n",
            "  Downloading jedi-0.19.1-py2.py3-none-any.whl (1.6 MB)\n",
            "\u001b[2K     \u001b[90m━━━━━━━━━━━━━━━━━━━━━━━━━━━━━━━━━━━━━━━━\u001b[0m \u001b[32m1.6/1.6 MB\u001b[0m \u001b[31m17.0 MB/s\u001b[0m eta \u001b[36m0:00:00\u001b[0m\n",
            "\u001b[?25hRequirement already satisfied: decorator in /usr/local/lib/python3.10/dist-packages (from ipython>=6.0->watermark) (4.4.2)\n",
            "Requirement already satisfied: pickleshare in /usr/local/lib/python3.10/dist-packages (from ipython>=6.0->watermark) (0.7.5)\n",
            "Requirement already satisfied: traitlets>=4.2 in /usr/local/lib/python3.10/dist-packages (from ipython>=6.0->watermark) (5.7.1)\n",
            "Requirement already satisfied: prompt-toolkit!=3.0.0,!=3.0.1,<3.1.0,>=2.0.0 in /usr/local/lib/python3.10/dist-packages (from ipython>=6.0->watermark) (3.0.43)\n",
            "Requirement already satisfied: pygments in /usr/local/lib/python3.10/dist-packages (from ipython>=6.0->watermark) (2.16.1)\n",
            "Requirement already satisfied: backcall in /usr/local/lib/python3.10/dist-packages (from ipython>=6.0->watermark) (0.2.0)\n",
            "Requirement already satisfied: matplotlib-inline in /usr/local/lib/python3.10/dist-packages (from ipython>=6.0->watermark) (0.1.7)\n",
            "Requirement already satisfied: pexpect>4.3 in /usr/local/lib/python3.10/dist-packages (from ipython>=6.0->watermark) (4.9.0)\n",
            "Requirement already satisfied: six>=1.5 in /usr/local/lib/python3.10/dist-packages (from python-dateutil>=2.8.2->pandas) (1.16.0)\n",
            "Requirement already satisfied: parso<0.9.0,>=0.8.3 in /usr/local/lib/python3.10/dist-packages (from jedi>=0.16->ipython>=6.0->watermark) (0.8.4)\n",
            "Requirement already satisfied: ptyprocess>=0.5 in /usr/local/lib/python3.10/dist-packages (from pexpect>4.3->ipython>=6.0->watermark) (0.7.0)\n",
            "Requirement already satisfied: wcwidth in /usr/local/lib/python3.10/dist-packages (from prompt-toolkit!=3.0.0,!=3.0.1,<3.1.0,>=2.0.0->ipython>=6.0->watermark) (0.2.13)\n",
            "Installing collected packages: jedi, watermark\n",
            "Successfully installed jedi-0.19.1 watermark-2.4.3\n"
          ]
        }
      ],
      "source": [
        "!pip install numpy pandas matplotlib watermark"
      ]
    },
    {
      "cell_type": "code",
      "source": [
        "%load_ext watermark\n",
        "%watermark -v -p numpy,pandas,matplotlib"
      ],
      "metadata": {
        "colab": {
          "base_uri": "https://localhost:8080/"
        },
        "id": "N6pHqLMM-0fr",
        "outputId": "98bbdf69-83e5-48b7-fbb7-55b8bcc36ac0"
      },
      "execution_count": 2,
      "outputs": [
        {
          "output_type": "stream",
          "name": "stdout",
          "text": [
            "Python implementation: CPython\n",
            "Python version       : 3.10.12\n",
            "IPython version      : 7.34.0\n",
            "\n",
            "numpy     : 1.25.2\n",
            "pandas    : 2.0.3\n",
            "matplotlib: 3.7.1\n",
            "\n"
          ]
        }
      ]
    },
    {
      "cell_type": "code",
      "source": [
        "!wget https://raw.githubusercontent.com/Lightning-AI/dl-fundamentals/main/unit02-pytorch-tensors/2.6-revisiting-perceptron/perceptron_toydata-truncated.txt -O perceptron_toydata-truncated.txt"
      ],
      "metadata": {
        "id": "JVIFPecJ_yw2",
        "colab": {
          "base_uri": "https://localhost:8080/"
        },
        "outputId": "38f80295-412e-4c9d-bbc1-cfbe32db4e5f"
      },
      "execution_count": 3,
      "outputs": [
        {
          "output_type": "stream",
          "name": "stdout",
          "text": [
            "--2024-04-27 10:39:24--  https://raw.githubusercontent.com/Lightning-AI/dl-fundamentals/main/unit02-pytorch-tensors/2.6-revisiting-perceptron/perceptron_toydata-truncated.txt\n",
            "Resolving raw.githubusercontent.com (raw.githubusercontent.com)... 185.199.108.133, 185.199.109.133, 185.199.110.133, ...\n",
            "Connecting to raw.githubusercontent.com (raw.githubusercontent.com)|185.199.108.133|:443... connected.\n",
            "HTTP request sent, awaiting response... 200 OK\n",
            "Length: 268 [text/plain]\n",
            "Saving to: ‘perceptron_toydata-truncated.txt’\n",
            "\n",
            "perceptron_toydata- 100%[===================>]     268  --.-KB/s    in 0s      \n",
            "\n",
            "2024-04-27 10:39:25 (4.76 MB/s) - ‘perceptron_toydata-truncated.txt’ saved [268/268]\n",
            "\n"
          ]
        }
      ]
    },
    {
      "cell_type": "code",
      "source": [
        "import pandas as pd\n",
        "\n",
        "df = pd.read_csv(\"perceptron_toydata-truncated.txt\", sep=\"\\t\")\n",
        "x_train = df[['x1', 'x2']].values\n",
        "y_train = df['label'].values"
      ],
      "metadata": {
        "id": "rp32-JPwA3Jn"
      },
      "execution_count": 50,
      "outputs": []
    },
    {
      "cell_type": "code",
      "source": [
        "x_train.shape"
      ],
      "metadata": {
        "colab": {
          "base_uri": "https://localhost:8080/"
        },
        "id": "s-ZJyC2LDBH7",
        "outputId": "689a335c-4ae6-40aa-a996-529cf32a9bef"
      },
      "execution_count": 51,
      "outputs": [
        {
          "output_type": "execute_result",
          "data": {
            "text/plain": [
              "(100, 2)"
            ]
          },
          "metadata": {},
          "execution_count": 51
        }
      ]
    },
    {
      "cell_type": "code",
      "source": [
        "y_train.shape"
      ],
      "metadata": {
        "colab": {
          "base_uri": "https://localhost:8080/"
        },
        "id": "LGz1Kk_vFLuD",
        "outputId": "b7fd3460-d815-4c86-cdaf-c10c5bebaa9c"
      },
      "execution_count": 52,
      "outputs": [
        {
          "output_type": "execute_result",
          "data": {
            "text/plain": [
              "(100,)"
            ]
          },
          "metadata": {},
          "execution_count": 52
        }
      ]
    },
    {
      "cell_type": "code",
      "source": [
        "import numpy as np\n",
        "np.bincount(y_train)"
      ],
      "metadata": {
        "colab": {
          "base_uri": "https://localhost:8080/"
        },
        "id": "XoaE5J-tFPIl",
        "outputId": "91c6043d-cbd9-4e40-fdb5-ade05b91fb63"
      },
      "execution_count": 53,
      "outputs": [
        {
          "output_type": "execute_result",
          "data": {
            "text/plain": [
              "array([50, 50])"
            ]
          },
          "metadata": {},
          "execution_count": 53
        }
      ]
    },
    {
      "cell_type": "code",
      "source": [
        "%matplotlib inline\n",
        "import matplotlib.pyplot as plt"
      ],
      "metadata": {
        "id": "xKHMzRTOFfru"
      },
      "execution_count": 8,
      "outputs": []
    },
    {
      "cell_type": "code",
      "source": [
        "plt.plot(\n",
        "    x_train[y_train==0, 0],\n",
        "    x_train[y_train==0, 1],\n",
        "    marker=\"D\",\n",
        "    markersize=10,\n",
        "    linestyle=\"\",\n",
        "    label=\"Class 0\"\n",
        ")\n",
        "\n",
        "plt.plot(\n",
        "    x_train[y_train==1, 0],\n",
        "    x_train[y_train==1, 1],\n",
        "    marker=\"^\",\n",
        "    markersize=13,\n",
        "    linestyle=\"\",\n",
        "    label=\"Class 1\"\n",
        ")\n",
        "\n",
        "plt.legend(loc=2)\n",
        "\n",
        "plt.xlim([-5, 5])\n",
        "plt.ylim([-5, 5])\n",
        "\n",
        "plt.xlabel(\"Feature $x_1$\", fontsize=12)\n",
        "plt.ylabel(\"Feature $x_2$\", fontsize=12)\n",
        "\n",
        "plt.grid()\n",
        "plt.show()"
      ],
      "metadata": {
        "colab": {
          "base_uri": "https://localhost:8080/",
          "height": 455
        },
        "id": "RRuTN6gqFzoI",
        "outputId": "498f490f-04bc-4593-c94b-d30a4935f174"
      },
      "execution_count": 54,
      "outputs": [
        {
          "output_type": "display_data",
          "data": {
            "text/plain": [
              "<Figure size 640x480 with 1 Axes>"
            ],
            "image/png": "[encoded data removed]"
          },
          "metadata": {}
        }
      ]
    },
    {
      "cell_type": "code",
      "source": [
        "class Perceptron:\n",
        "  def __init__(self, num_features):\n",
        "    self.num_features = num_features\n",
        "    self.weights = [0.0 for _ in range(num_features)]\n",
        "    self.bias = 0.0"
      ],
      "metadata": {
        "id": "exqFqFK-GvDr"
      },
      "execution_count": 10,
      "outputs": []
    },
    {
      "cell_type": "code",
      "source": [
        "ppn = Perceptron(num_features=2)"
      ],
      "metadata": {
        "id": "8F7803ioVl6d"
      },
      "execution_count": 11,
      "outputs": []
    },
    {
      "cell_type": "code",
      "source": [
        "ppn.weights"
      ],
      "metadata": {
        "colab": {
          "base_uri": "https://localhost:8080/"
        },
        "id": "vj4a0A4dVo_H",
        "outputId": "e2cd1e05-78d6-44b9-fc9e-c09b2d552014"
      },
      "execution_count": 12,
      "outputs": [
        {
          "output_type": "execute_result",
          "data": {
            "text/plain": [
              "[0.0, 0.0]"
            ]
          },
          "metadata": {},
          "execution_count": 12
        }
      ]
    },
    {
      "cell_type": "code",
      "source": [
        "ppn.bias"
      ],
      "metadata": {
        "colab": {
          "base_uri": "https://localhost:8080/"
        },
        "id": "R5qKYpaCV61n",
        "outputId": "357d41ea-e065-43a1-cbf9-4a16ca6ebe7b"
      },
      "execution_count": 13,
      "outputs": [
        {
          "output_type": "execute_result",
          "data": {
            "text/plain": [
              "0.0"
            ]
          },
          "metadata": {},
          "execution_count": 13
        }
      ]
    },
    {
      "cell_type": "code",
      "source": [
        "class Perceptron:\n",
        "  def __init__(self, num_features):\n",
        "    self.num_features = num_features\n",
        "    self.weights = [0.0 for _ in range(num_features)]\n",
        "    self.bias = 0.0\n",
        "\n",
        "  def forward(self, features):\n",
        "    weighted_sum_z = self.bias\n",
        "    for i, _ in enumerate(self.weights):\n",
        "      weighted_sum_z += features[i] * self.weights[i]\n",
        "\n",
        "    if weighted_sum_z > 0.0:\n",
        "      prediction = 1\n",
        "    else:\n",
        "      prediction = 0\n",
        "\n",
        "    return prediction"
      ],
      "metadata": {
        "id": "WNheV3vBWFPo"
      },
      "execution_count": 14,
      "outputs": []
    },
    {
      "cell_type": "code",
      "source": [
        "ppn = Perceptron(num_features=2)\n",
        "x = [1.1, 2.1]\n",
        "ppn.forward(x)"
      ],
      "metadata": {
        "colab": {
          "base_uri": "https://localhost:8080/"
        },
        "id": "wVxB6WHzX7h7",
        "outputId": "282acc51-54e1-450c-a388-1371483c873b"
      },
      "execution_count": 15,
      "outputs": [
        {
          "output_type": "execute_result",
          "data": {
            "text/plain": [
              "0"
            ]
          },
          "metadata": {},
          "execution_count": 15
        }
      ]
    },
    {
      "cell_type": "code",
      "source": [
        "import random"
      ],
      "metadata": {
        "id": "n0W8n9Lkj5N0"
      },
      "execution_count": 16,
      "outputs": []
    },
    {
      "cell_type": "code",
      "source": [
        "class Perceptron:\n",
        "  def __init__(self, num_features, learning_rate=1.0):\n",
        "    self.num_features = num_features\n",
        "    # Initialize the model parameters with small random numbers instead of 0’s\n",
        "    self.weights = [random.uniform(-0.5, 0.5) for _ in range(num_features)]\n",
        "    self.bias = random.uniform(-0.5, 0.5)\n",
        "    self.learning_rate = learning_rate\n",
        "\n",
        "  def forward(self, features):\n",
        "    weighted_sum_z = self.bias\n",
        "    for i, _ in enumerate(self.weights):\n",
        "      weighted_sum_z += features[i] * self.weights[i]\n",
        "\n",
        "    if weighted_sum_z > 0.0:\n",
        "      prediction = 1\n",
        "    else:\n",
        "      prediction = 0\n",
        "\n",
        "    return prediction\n",
        "\n",
        "  def update(self, features, true_y):\n",
        "    prediction = self.forward(features)\n",
        "    error = true_y - prediction\n",
        "    self.bias += self.learning_rate * error\n",
        "    for i, _ in enumerate(self.weights):\n",
        "      self.weights[i] += self.learning_rate * error * features[i]\n",
        "\n",
        "    return error"
      ],
      "metadata": {
        "id": "gYnNiZvYX_K5"
      },
      "execution_count": 55,
      "outputs": []
    },
    {
      "cell_type": "code",
      "source": [
        "ppn = Perceptron(num_features=2)\n",
        "ppn.forward(x)\n",
        "ppn.update(x, true_y=1)"
      ],
      "metadata": {
        "colab": {
          "base_uri": "https://localhost:8080/"
        },
        "id": "RKoFvTEEaBIX",
        "outputId": "499b57e9-8c2b-4c08-fde7-2ef2ad19d1cc"
      },
      "execution_count": 18,
      "outputs": [
        {
          "output_type": "execute_result",
          "data": {
            "text/plain": [
              "1"
            ]
          },
          "metadata": {},
          "execution_count": 18
        }
      ]
    },
    {
      "cell_type": "code",
      "source": [
        "print(f\"\"\"Model Parameters:\n",
        "  Weights: {ppn.weights}\n",
        "  Bias: {ppn.bias}\"\"\")"
      ],
      "metadata": {
        "colab": {
          "base_uri": "https://localhost:8080/"
        },
        "id": "qORYz87caO90",
        "outputId": "ca5cc121-0c4a-4876-bdde-1401f2342dae"
      },
      "execution_count": 19,
      "outputs": [
        {
          "output_type": "stream",
          "name": "stdout",
          "text": [
            "Model Parameters:\n",
            "  Weights: [0.7274760375651405, 1.8610039606470625]\n",
            "  Bias: 1.303469277798684\n"
          ]
        }
      ]
    },
    {
      "cell_type": "code",
      "source": [
        "def train(model, all_x, all_y, epochs):\n",
        "  for epoch in range(epochs):\n",
        "    error_count = 0\n",
        "    for features, true_y in zip(all_x, all_y):\n",
        "      error = model.update(features, true_y)\n",
        "      error_count += abs(error)\n",
        "\n",
        "    print(f\"Epoch {epoch+1}, Errors: {error_count}\")\n",
        "\n",
        "    if error_count == 0: # Add early-stopping to make the Perceptron more efficient\n",
        "      break"
      ],
      "metadata": {
        "id": "yIeumQtSc0lR"
      },
      "execution_count": 56,
      "outputs": []
    },
    {
      "cell_type": "code",
      "source": [
        "ppn = Perceptron(num_features=2, learning_rate=0.9)\n",
        "train(model=ppn, all_x=x_train, all_y=y_train, epochs=6)"
      ],
      "metadata": {
        "colab": {
          "base_uri": "https://localhost:8080/"
        },
        "id": "n8LXfii2e_zl",
        "outputId": "2443a376-040d-49cb-d1ce-86450c35c26d"
      },
      "execution_count": 57,
      "outputs": [
        {
          "output_type": "stream",
          "name": "stdout",
          "text": [
            "Epoch 1, Errors: 4\n",
            "Epoch 2, Errors: 1\n",
            "Epoch 3, Errors: 0\n"
          ]
        }
      ]
    },
    {
      "cell_type": "code",
      "source": [
        "def compute_accuracy(model, all_x, all_y):\n",
        "  correct = 0.0\n",
        "  for features, true_y in zip(all_x, all_y):\n",
        "    prediction = model.forward(features)\n",
        "    correct += int(prediction == true_y)\n",
        "\n",
        "  return correct / len(all_y)"
      ],
      "metadata": {
        "id": "-h0wxvy8hyJw"
      },
      "execution_count": 58,
      "outputs": []
    },
    {
      "cell_type": "code",
      "source": [
        "train_acc = compute_accuracy(ppn, x_train, y_train)\n",
        "train_acc"
      ],
      "metadata": {
        "colab": {
          "base_uri": "https://localhost:8080/"
        },
        "id": "F9ub1kd4jLhF",
        "outputId": "55b1d0fb-d76e-4a92-8507-41c1eea1fede"
      },
      "execution_count": 59,
      "outputs": [
        {
          "output_type": "execute_result",
          "data": {
            "text/plain": [
              "1.0"
            ]
          },
          "metadata": {},
          "execution_count": 59
        }
      ]
    },
    {
      "cell_type": "code",
      "source": [
        "print(f\"Accuracy: {train_acc*100}%\")"
      ],
      "metadata": {
        "colab": {
          "base_uri": "https://localhost:8080/"
        },
        "id": "V1V_aTK2jUa0",
        "outputId": "60babcae-e7ab-4a66-e93a-5a5002502ca4"
      },
      "execution_count": 60,
      "outputs": [
        {
          "output_type": "stream",
          "name": "stdout",
          "text": [
            "Accuracy: 100.0%\n"
          ]
        }
      ]
    },
    {
      "cell_type": "code",
      "source": [
        "def plot_boundary(model):\n",
        "  w1, w2 = model.weights[0], model.weights[1]\n",
        "  b = model.bias\n",
        "\n",
        "  x1_min = -20\n",
        "  x2_min = (-(w1 * x1_min) - b) / w2\n",
        "\n",
        "  x1_max = 20\n",
        "  x2_max = (-(w1 * x1_max) - b) / w2\n",
        "\n",
        "  return x1_min, x1_max, x2_min, x2_max"
      ],
      "metadata": {
        "id": "vdVX2VW_jgr7"
      },
      "execution_count": 61,
      "outputs": []
    },
    {
      "cell_type": "code",
      "source": [
        "x1_min, x1_max, x2_min, x2_max = plot_boundary(ppn)\n",
        "plt.plot(\n",
        "    x_train[y_train==0, 0],\n",
        "    x_train[y_train==0, 1],\n",
        "    marker=\"D\",\n",
        "    markersize=10,\n",
        "    linestyle=\"\",\n",
        "    label=\"Class 0\"\n",
        ")\n",
        "\n",
        "plt.plot(\n",
        "    x_train[y_train==1, 0],\n",
        "    x_train[y_train==1, 1],\n",
        "    marker=\"^\",\n",
        "    markersize=13,\n",
        "    linestyle=\"\",\n",
        "    label=\"Class 1\"\n",
        ")\n",
        "\n",
        "plt.plot([x1_min, x1_max], [x2_min, x2_max], color=\"k\")\n",
        "\n",
        "plt.legend(loc=2)\n",
        "\n",
        "plt.xlim([-5, 5])\n",
        "plt.ylim([-5, 5])\n",
        "\n",
        "plt.xlabel(\"Feature $x_1$\", fontsize=12)\n",
        "plt.ylabel(\"Feature $x_2$\", fontsize=12)\n",
        "\n",
        "plt.grid()\n",
        "plt.show()"
      ],
      "metadata": {
        "colab": {
          "base_uri": "https://localhost:8080/",
          "height": 455
        },
        "id": "xl1Ipvd2mHVU",
        "outputId": "f09c87e4-72ec-4526-81f8-aacabc0b78c0"
      },
      "execution_count": 62,
      "outputs": [
        {
          "output_type": "display_data",
          "data": {
            "text/plain": [
              "<Figure size 640x480 with 1 Axes>"
            ],
            "image/png": "[encoded data removed]"
          },
          "metadata": {}
        }
      ]
    }
  ]
}